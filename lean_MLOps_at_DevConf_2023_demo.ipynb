{
  "nbformat": 4,
  "nbformat_minor": 0,
  "metadata": {
    "colab": {
      "provenance": [],
      "authorship_tag": "ABX9TyM+5r9wKrUVDp0VtUOwQwzS",
      "include_colab_link": true
    },
    "kernelspec": {
      "name": "python3",
      "display_name": "Python 3"
    },
    "language_info": {
      "name": "python"
    }
  },
  "cells": [
    {
      "cell_type": "markdown",
      "metadata": {
        "id": "view-in-github",
        "colab_type": "text"
      },
      "source": [
        "<a href=\"https://colab.research.google.com/github/austinpoulton/dev-conf-2023-lean-mlops/blob/master/lean_MLOps_at_DevConf_2023_demo.ipynb\" target=\"_parent\"><img src=\"https://colab.research.google.com/assets/colab-badge.svg\" alt=\"Open In Colab\"/></a>"
      ]
    },
    {
      "cell_type": "markdown",
      "source": [
        "## Welcome to lean MLOps demo @ DevConf 2023!\n",
        "\n",
        "#### Quick Overview \n",
        "- What is MLOps? \n",
        "- Comparison of SW products and ML products \n",
        "- A taster of unqiue aspects of operating machine learning products\n",
        "- demo \n",
        "- Q&A\n",
        "\n",
        "\n",
        "\n"
      ],
      "metadata": {
        "id": "KfZwnM0GlsIG"
      }
    },
    {
      "cell_type": "code",
      "source": [],
      "metadata": {
        "id": "phb26SK50ohN"
      },
      "execution_count": null,
      "outputs": []
    },
    {
      "cell_type": "code",
      "execution_count": null,
      "metadata": {
        "id": "BeeBMkxVh9Po"
      },
      "outputs": [],
      "source": [
        "!pip install mlflow dvc duckdb > /dev/null"
      ]
    },
    {
      "cell_type": "code",
      "source": [
        "import mlflow\n",
        "import dvc\n",
        "import duckdb"
      ],
      "metadata": {
        "id": "r-EXZ28ZiE15"
      },
      "execution_count": null,
      "outputs": []
    },
    {
      "cell_type": "markdown",
      "source": [],
      "metadata": {
        "id": "OQPvGCi9lqYc"
      }
    },
    {
      "cell_type": "code",
      "source": [
        "con = duckdb.connect(\"fearure_store.duckdb\")"
      ],
      "metadata": {
        "id": "qOFkdGdkjn80"
      },
      "execution_count": null,
      "outputs": []
    },
    {
      "cell_type": "code",
      "source": [
        "con.sql(\"\"\"\n",
        "  CREATE SCHEMA IF NOT EXISTS raw;\n",
        "   \n",
        "\"\"\")"
      ],
      "metadata": {
        "id": "kfySI01HlYF2"
      },
      "execution_count": null,
      "outputs": []
    },
    {
      "cell_type": "code",
      "source": [
        "con.sql(\"create or replace raw.\")"
      ],
      "metadata": {
        "id": "eIXr57AEwXQW"
      },
      "execution_count": null,
      "outputs": []
    },
    {
      "cell_type": "code",
      "source": [],
      "metadata": {
        "id": "sE2WC6ElyiZW"
      },
      "execution_count": null,
      "outputs": []
    }
  ]
}